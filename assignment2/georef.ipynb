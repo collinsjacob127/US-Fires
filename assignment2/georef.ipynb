{
 "cells": [
  {
   "cell_type": "markdown",
   "metadata": {},
   "source": [
    "# Generation of States and Counties from Coordinates\n",
    "\n",
    "Author: Jacob Collins\n",
    "\n",
    "Description:\n",
    "\n",
    "A program to generate a corresponding state and/or county column for each\n",
    "latitude and longitude in a CSV.\n"
   ]
  },
  {
   "cell_type": "code",
   "execution_count": null,
   "metadata": {
    "vscode": {
     "languageId": "plaintext"
    }
   },
   "outputs": [],
   "source": []
  }
 ],
 "metadata": {
  "language_info": {
   "name": "python"
  }
 },
 "nbformat": 4,
 "nbformat_minor": 2
}
